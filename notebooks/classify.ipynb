{
 "cells": [
  {
   "cell_type": "code",
   "execution_count": 1,
   "metadata": {
    "collapsed": true
   },
   "outputs": [],
   "source": [
    "import torch\n",
    "import torch.nn as nn\n",
    "import torch.optim as optim\n",
    "from transformers import BertTokenizer, BertModel\n",
    "from torch.utils.data import DataLoader, Dataset\n",
    "import torch.nn.functional as F\n"
   ]
  },
  {
   "cell_type": "code",
   "execution_count": 2,
   "outputs": [],
   "source": [
    "class TextDataset(Dataset):\n",
    "    def __init__(self, texts, labels, tokenizer, max_len = 256):\n",
    "        self.texts = texts\n",
    "        self.labels = labels\n",
    "        self.tokenizer = tokenizer\n",
    "        self.max_len = max_len\n",
    "\n",
    "    def __len__(self):\n",
    "        return len(self.texts)\n",
    "\n",
    "    def __getitem__(self, idx):\n",
    "        text = self.texts[idx]\n",
    "        label = self.labels[idx]\n",
    "        encoding = self.tokenizer.encode_plus(\n",
    "            text,\n",
    "            add_special_tokens=True,\n",
    "            max_length=self.max_len,\n",
    "            return_token_type_ids=False,\n",
    "            padding='max_length',\n",
    "            truncation=True,\n",
    "            return_attention_mask=True,\n",
    "            return_tensors='pt'\n",
    "        )\n",
    "        return {\n",
    "            'text': text,\n",
    "            'input_ids': encoding['input_ids'].flatten(),\n",
    "            'attention_mask': encoding['attention_mask'].flatten(),\n",
    "            'label': torch.tensor(label, dtype=torch.long)\n",
    "        }"
   ],
   "metadata": {
    "collapsed": false
   }
  },
  {
   "cell_type": "code",
   "execution_count": 3,
   "outputs": [],
   "source": [
    "train_data = [\n",
    "    (\"The Milky Way galaxy contains billions of stars, each with its own planetary system.\", \"Astronomy\"),\n",
    "    (\"Black holes are regions in space where the gravitational pull is so strong that nothing, not even light, can escape.\", \"Astronomy\"),\n",
    "    (\"The Hubble Space Telescope has provided some of the most breathtaking images of the universe.\", \"Astronomy\"),\n",
    "    (\"Astronomers use telescopes to observe celestial bodies and gather data about the cosmos.\", \"Astronomy\"),\n",
    "    (\"The study of exoplanets has revealed that many of them may have conditions suitable for life.\", \"Astronomy\"),\n",
    "    (\"Dark matter and dark energy are mysterious components that make up most of the universe, but we know very little about them.\", \"Astronomy\"),\n",
    "    (\"The Andromeda Galaxy is on a collision course with the Milky Way and will eventually merge with it.\", \"Astronomy\"),\n",
    "    (\"Comets are icy celestial bodies that develop bright tails when they approach the Sun.\", \"Astronomy\"),\n",
    "    (\"The Big Bang theory is the prevailing explanation for the origin of the universe.\", \"Astronomy\"),\n",
    "    (\"Neutron stars are the remnants of massive stars that have exploded in supernovae.\", \"Astronomy\"),\n",
    "    (\"The Shawshank Redemption is widely considered one of the greatest films of all time.\", \"Movies\"),\n",
    "    (\"Christopher Nolan is known for his mind-bending and visually stunning movies, such as Inception.\", \"Movies\"),\n",
    "    (\"The Marvel Cinematic Universe has created a shared universe that connects multiple superhero films.\", \"Movies\"),\n",
    "    (\"The use of special effects has revolutionized the way blockbuster movies are made.\", \"Movies\"),\n",
    "    (\"Alfred Hitchcock's Psycho is a classic horror film that has influenced many directors.\", \"Movies\"),\n",
    "    (\"The Academy Awards, or Oscars, celebrate the best in film every year.\", \"Movies\"),\n",
    "    (\"Quentin Tarantino is famous for his unique style and dialogue-rich films like Pulp Fiction.\", \"Movies\"),\n",
    "    (\"Animated movies like Toy Story have become beloved classics for both children and adults.\", \"Movies\"),\n",
    "    (\"Star Wars has a massive fanbase and has had a significant impact on popular culture.\", \"Movies\"),\n",
    "    (\"Documentaries can offer profound insights into real-life events and issues.\", \"Movies\"),\n",
    "    (\"Gardening can be a therapeutic activity that helps reduce stress.\", \"Random\"),\n",
    "    (\"The Eiffel Tower in Paris is one of the most famous landmarks in the world.\", \"Random\"),\n",
    "    (\"Cooking new recipes from different cuisines can be an exciting culinary adventure.\", \"Random\"),\n",
    "    (\"Chess is a game of strategy that has been enjoyed for centuries.\", \"Random\"),\n",
    "    (\"Yoga promotes flexibility, strength, and mental clarity.\", \"Random\"),\n",
    "    (\"Reading books can transport you to different worlds and expand your knowledge.\", \"Random\"),\n",
    "    (\"Hiking in nature can be a great way to stay fit and enjoy the outdoors.\", \"Random\"),\n",
    "    (\"Music has the power to evoke strong emotions and bring people together.\", \"Random\"),\n",
    "    (\"Photography allows us to capture and preserve moments in time.\", \"Random\"),\n",
    "    (\"Traveling to new places can broaden your horizons and introduce you to diverse cultures.\", \"Random\"),\n",
    "\n",
    "    # Astronomy Sentences\n",
    "    (\"The Hubble Space Telescope has greatly enhanced our understanding of the cosmos with its stunning images of distant galaxies.\", \"Astronomy\"),\n",
    "    (\"Jupiter's moon Europa is believed to have a subsurface ocean that may harbor life.\", \"Astronomy\"),\n",
    "    (\"The speed of light is approximately 299,792 kilometers per second, making it the fastest thing in the universe.\", \"Astronomy\"),\n",
    "    (\"The Drake Equation is used to estimate the number of active, communicative extraterrestrial civilizations in the Milky Way galaxy.\", \"Astronomy\"),\n",
    "    (\"The Fermi Paradox questions why, if there are so many stars with likely habitable planets, we have yet to find any signs of alien life.\", \"Astronomy\"),\n",
    "    (\"The Carina Nebula is a large, complex area of bright and dark nebulae in the constellation Carina.\", \"Astronomy\"),\n",
    "    (\"Gravitational waves are ripples in spacetime caused by some of the most violent and energetic processes in the universe.\", \"Astronomy\"),\n",
    "    (\"The Oort Cloud is a spherical shell of icy objects that are believed to surround the solar system and be the source of many comets.\", \"Astronomy\"),\n",
    "    (\"The Kármán line at an altitude of 100 kilometers above sea level is often used to define the boundary between Earth's atmosphere and outer space.\", \"Astronomy\"),\n",
    "    (\"Astrobiology is the study of the origin, evolution, and distribution of life in the universe.\", \"Astronomy\"),\n",
    "\n",
    "    # Movies Sentences\n",
    "    (\"Schindler's List is a poignant film that tells the story of Oskar Schindler's efforts to save Jews during the Holocaust.\", \"Movies\"),\n",
    "    (\"Woody Allen's films often explore complex relationships and human psychology.\", \"Movies\"),\n",
    "    (\"The Lord of the Rings trilogy is celebrated for its epic storytelling and expansive world-building.\", \"Movies\"),\n",
    "    (\"Musical films like La La Land combine storytelling with music and dance to create a unique cinematic experience.\", \"Movies\"),\n",
    "    (\"Film noir is a genre characterized by its dark, cynical atmosphere and morally ambiguous characters.\", \"Movies\"),\n",
    "    (\"Blade Runner is a seminal science fiction film that raised questions about the nature of humanity and artificial intelligence.\", \"Movies\"),\n",
    "    (\"Animated feature films often take years to produce due to the complexity of animation.\", \"Movies\"),\n",
    "    (\"Cinematography is the art of capturing visual images for film, often contributing significantly to a movie's mood and storytelling.\", \"Movies\"),\n",
    "    (\"Cult films have dedicated fanbases and often achieve enduring popularity despite a lack of mainstream success.\", \"Movies\"),\n",
    "    (\"Film festivals like Sundance and TIFF provide platforms for independent filmmakers to showcase their work.\", \"Movies\"),\n",
    "\n",
    "    # Random Sentences\n",
    "    (\"Podcasts have become a popular medium for storytelling, interviews, and educational content.\", \"Random\"),\n",
    "    (\"The Great Wall of China stretches over 13,000 miles and is one of the most famous landmarks in the world.\", \"Random\"),\n",
    "    (\"Crafting and DIY projects can provide a creative outlet and a sense of accomplishment.\", \"Random\"),\n",
    "    (\"Robotics and automation are transforming industries from manufacturing to healthcare.\", \"Random\"),\n",
    "    (\"The history of art includes movements like Impressionism, Surrealism, and Abstract Expressionism, each with distinct characteristics.\", \"Random\"),\n",
    "    (\"Astrology is the belief that the alignment of stars and planets can affect human behavior and destiny.\", \"Random\"),\n",
    "    (\"Cryptocurrency is a digital or virtual currency that uses cryptography for security and operates independently of a central bank.\", \"Random\"),\n",
    "    (\"Bird watching can be a peaceful and educational hobby, allowing individuals to observe different bird species in their natural habitats.\", \"Random\"),\n",
    "    (\"The culinary arts involve not just cooking but also the presentation and appreciation of food.\", \"Random\"),\n",
    "    (\"Urban planning involves designing and regulating the use of space to create functional and sustainable cities.\", \"Random\"),\n",
    "\n",
    "    (\"The James Webb Space Telescope is designed to observe the most distant objects in the universe.\", \"Astronomy\"),\n",
    "    (\"Neptune's Great Dark Spot was a storm similar to Jupiter's Great Red Spot.\", \"Astronomy\"),\n",
    "    (\"Asteroids are small rocky bodies that orbit the Sun, mostly found in the asteroid belt.\", \"Astronomy\"),\n",
    "    (\"The Sun's core is the location of nuclear fusion, which powers the Sun.\", \"Astronomy\"),\n",
    "    (\"The summer and winter solstices mark the longest and shortest days of the year.\", \"Astronomy\"),\n",
    "    (\"Binary stars are systems in which two stars orbit their common center of mass.\", \"Astronomy\"),\n",
    "    (\"The Small Magellanic Cloud is a dwarf galaxy near the Milky Way.\", \"Astronomy\"),\n",
    "    (\"Solar flares are sudden eruptions of intense high-energy radiation from the Sun's surface.\", \"Astronomy\"),\n",
    "    (\"The H-R diagram is a scatter plot of stars showing the relationship between their brightness and temperature.\", \"Astronomy\"),\n",
    "    (\"The Kuiper Belt was named after Dutch-American astronomer Gerard Kuiper.\", \"Astronomy\"),\n",
    "\n",
    "    (\"Digital photography has made it easy to capture and share moments instantly.\", \"Random\"),\n",
    "    (\"Chess grandmasters often spend years studying and practicing the game.\", \"Random\"),\n",
    "    (\"The health benefits of regular exercise include improved cardiovascular health and mental well-being.\", \"Random\"),\n",
    "    (\"Baking can be a relaxing and rewarding hobby that also produces delicious results.\", \"Random\"),\n",
    "    (\"Many people enjoy reading mystery novels for the suspense and intrigue.\", \"Random\"),\n",
    "    (\"Genealogy research helps individuals trace their family history and heritage.\", \"Random\"),\n",
    "    (\"Camping allows people to disconnect from technology and reconnect with nature.\", \"Random\"),\n",
    "    (\"Podcasts have surged in popularity as a way to learn and be entertained on the go.\", \"Random\"),\n",
    "    (\"Volunteering is a meaningful way to give back to your community and make a difference.\", \"Random\"),\n",
    "    (\"Journaling can be a therapeutic practice that helps you reflect on your thoughts and experiences.\", \"Random\"),\n",
    "\n",
    "    (\"Tim Burton is known for his gothic and eccentric film style.\", \"Movies\"),\n",
    "    (\"'The Dark Knight' features one of the most iconic performances by Heath Ledger as the Joker.\", \"Movies\"),\n",
    "    (\"'Toy Story' is notable for being the first entirely computer-animated feature film.\", \"Movies\"),\n",
    "    (\"'The Silence of the Lambs' is a thriller that features the well-known character Hannibal Lecter.\", \"Movies\"),\n",
    "    (\"'Jurassic Park' amazed audiences with its realistic depiction of dinosaurs.\", \"Movies\"),\n",
    "    (\"Django Unchained' is a western film directed by Quentin Tarantino.\", \"Movies\"),\n",
    "    (\"'The Big Lebowski' is a cult classic known for its quirky characters and unique plot.\", \"Movies\"),\n",
    "    (\"'Gladiator' is an epic historical drama directed by Ridley Scott.\", \"Movies\"),\n",
    "    (\"'Goodfellas' is a crime film based on the true story of a mobster.\", \"Movies\"),\n",
    "    (\"Pixar's 'Inside Out' creatively explores the emotions of a young girl.\", \"Movies\"),\n",
    "]"
   ],
   "metadata": {
    "collapsed": false
   }
  },
  {
   "cell_type": "code",
   "execution_count": 4,
   "outputs": [],
   "source": [
    "val_data = [\n",
    "    # Astronomy Sentences\n",
    "    (\"The Orion Nebula is one of the brightest nebulae and is visible to the naked eye in the night sky.\", \"Astronomy\"),\n",
    "    (\"A light-year is a unit of astronomical distance equivalent to the distance that light travels in one year.\", \"Astronomy\"),\n",
    "    (\"The Sun is approximately 4.6 billion years old and is about halfway through its life cycle.\", \"Astronomy\"),\n",
    "    (\"The rings of Saturn are composed mostly of ice particles with a smaller amount of rocky debris and dust.\", \"Astronomy\"),\n",
    "    (\"The Large Magellanic Cloud is a satellite galaxy of the Milky Way and contains the Tarantula Nebula.\", \"Astronomy\"),\n",
    "    (\"Exoplanets are planets that orbit a star outside the solar system.\", \"Astronomy\"),\n",
    "    (\"The study of variable stars helps astronomers understand stellar evolution and the properties of distant galaxies.\", \"Astronomy\"),\n",
    "    (\"The Event Horizon Telescope captured the first-ever image of a black hole in the galaxy M87.\", \"Astronomy\"),\n",
    "    (\"Planetary nebulae are the remnants of certain types of stars that have shed their outer layers.\", \"Astronomy\"),\n",
    "    (\"The phenomenon of redshift occurs when the light from distant galaxies is stretched to longer wavelengths.\", \"Astronomy\"),\n",
    "\n",
    "    # Movies Sentences\n",
    "    (\"The cinematic techniques pioneered by Alfred Hitchcock are still studied in film schools today.\", \"Movies\"),\n",
    "    (\"The Matrix introduced audiences to groundbreaking special effects and philosophical themes.\", \"Movies\"),\n",
    "    (\"Independent films often tackle unique and challenging subjects that mainstream movies avoid.\", \"Movies\"),\n",
    "    (\"Citizen Kane is frequently cited as one of the greatest films ever made, known for its innovative storytelling.\", \"Movies\"),\n",
    "    (\"The role of women in cinema has evolved significantly over the past century.\", \"Movies\"),\n",
    "    (\"Documentaries like March of the Penguins offer viewers a glimpse into the lives of animals in their natural habitats.\", \"Movies\"),\n",
    "    (\"The script of Casablanca is renowned for its memorable lines and complex characters.\", \"Movies\"),\n",
    "    (\"Avatar broke box office records with its stunning visual effects and immersive world-building.\", \"Movies\"),\n",
    "    (\"Silent films from the early 20th century laid the foundation for modern filmmaking techniques.\", \"Movies\"),\n",
    "    (\"The horror genre often reflects the societal fears and anxieties of the time in which the films are made.\", \"Movies\"),\n",
    "\n",
    "    # Random Sentences\n",
    "    (\"The art of calligraphy is a beautiful and meditative form of handwriting.\", \"Random\"),\n",
    "    (\"The history of ancient civilizations, such as Egypt and Mesopotamia, offers insights into the development of human society.\", \"Random\"),\n",
    "    (\"Traveling by train can be a scenic and relaxing way to see the countryside.\", \"Random\"),\n",
    "    (\"Baking bread from scratch is a rewarding culinary experience that fills your home with delightful aromas.\", \"Random\"),\n",
    "    (\"The sport of rock climbing requires both physical strength and mental focus.\", \"Random\"),\n",
    "    (\"Learning a new language can broaden your cultural understanding and open up new opportunities.\", \"Random\"),\n",
    "    (\"The study of climate change is critical for understanding its impact on ecosystems and human societies.\", \"Random\"),\n",
    "    (\"Meditation and mindfulness practices have been shown to reduce stress and improve overall well-being.\", \"Random\"),\n",
    "    (\"Gardening can teach patience and provide a sense of accomplishment as plants grow and thrive.\", \"Random\"),\n",
    "    (\"The invention of the printing press by Johannes Gutenberg revolutionized the way information was disseminated.\", \"Random\"),\n",
    "\n",
    "    # Astronomy Sentences\n",
    "    (\"The Cassini spacecraft provided detailed images of Saturn and its rings.\", \"Astronomy\"),\n",
    "    (\"The moons of Uranus have unique, inclined orbits that intrigue astronomers.\", \"Astronomy\"),\n",
    "    (\"The Crab Nebula is the remnant of a supernova observed in 1054 AD.\", \"Astronomy\"),\n",
    "    (\"Pulsars are highly magnetized, rotating neutron stars that emit beams of electromagnetic radiation.\", \"Astronomy\"),\n",
    "    (\"Messier 31, also known as the Andromeda Galaxy, is the nearest spiral galaxy to the Milky Way.\", \"Astronomy\"),\n",
    "    (\"Galileo Galilei improved the telescope and made many essential astronomical observations.\", \"Astronomy\"),\n",
    "    (\"A solar eclipse occurs when the Moon passes between the Earth and the Sun, blocking the Sun partially or entirely.\", \"Astronomy\"),\n",
    "    (\"The Voyager missions have traveled beyond the solar system, sending data from interstellar space.\", \"Astronomy\"),\n",
    "    (\"Cosmic microwave background radiation is the afterglow of the Big Bang, detected in all directions in space.\", \"Astronomy\"),\n",
    "    (\"The Kuiper Belt contains many dwarf planets, including Pluto.\", \"Astronomy\"),\n",
    "\n",
    "    # Movies Sentences\n",
    "    (\"Al Pacino's portrayal of Michael Corleone in 'The Godfather' is considered iconic.\", \"Movies\"),\n",
    "    (\"'Forrest Gump' follows the life of a man with a low IQ who experiences extraordinary events.\", \"Movies\"),\n",
    "    (\"Stanley Kubrick directed classic films like '2001: A Space Odyssey' and 'The Shining'.\", \"Movies\"),\n",
    "    (\"'The Avengers' brought together numerous Marvel superheroes in one film.\", \"Movies\"),\n",
    "    (\"Studio Ghibli is renowned for its beautifully animated films like 'Spirited Away'.\", \"Movies\"),\n",
    "    (\"Film critics often analyze movies for their thematic depth and technical craftsmanship.\", \"Movies\"),\n",
    "    (\"'Saw' is a horror film series known for its elaborate traps and psychological thrills.\", \"Movies\"),\n",
    "    (\"Biographical films, or biopics, depict the life of a real person with varying degrees of accuracy.\", \"Movies\"),\n",
    "    (\"Costume design plays a significant role in establishing the setting and characters in a film.\", \"Movies\"),\n",
    "    (\"'The Social Network' chronicled the founding of Facebook and the controversies around it.\", \"Movies\"),\n",
    "\n",
    "    # Random Sentences\n",
    "    (\"The Olympics bring together athletes from around the world to compete in various sports.\", \"Random\"),\n",
    "    (\"Comic books have created an entire subculture with dedicated enthusiasts and conventions.\", \"Random\"),\n",
    "    (\"Fitness apps can help you track workouts, monitor progress, and stay motivated.\", \"Random\"),\n",
    "    (\"Playing a musical instrument, like the piano or guitar, can be a fulfilling hobby.\", \"Random\"),\n",
    "    (\"E-commerce has revolutionized the way people shop, making it possible to buy almost anything online.\", \"Random\"),\n",
    "    (\"The architecture of ancient Rome includes famous structures like the Colosseum and the Pantheon.\", \"Random\"),\n",
    "    (\"Mindfulness meditation encourages staying present and aware without judgment.\", \"Random\"),\n",
    "    (\"Sustainable living practices include reducing waste, recycling, and using renewable energy sources.\", \"Random\"),\n",
    "    (\"Gardening can improve mental health, reduce stress, and provide fresh produce.\", \"Random\"),\n",
    "    (\"Adventure travel allows people to explore new environments and engage in thrilling activities.\", \"Random\")\n",
    "]"
   ],
   "metadata": {
    "collapsed": false
   }
  },
  {
   "cell_type": "code",
   "execution_count": 5,
   "outputs": [],
   "source": [
    "test_data = [\n",
    "    # Astronomy Sentences\n",
    "    (\"The James Webb Space Telescope is expected to be the successor to the Hubble Space Telescope.\", \"Astronomy\"),\n",
    "    (\"Supernovae are powerful and luminous stellar explosions that occur at the end of a star's lifecycle.\", \"Astronomy\"),\n",
    "    (\"The observable universe is thought to be about 93 billion light-years in diameter.\", \"Astronomy\"),\n",
    "    (\"Quasars are extremely luminous active galactic nuclei powered by supermassive black holes.\", \"Astronomy\"),\n",
    "    (\"The Kuiper Belt is a region of the solar system beyond Neptune that contains many small icy bodies.\", \"Astronomy\"),\n",
    "    (\"The term 'light-year' refers to the distance that light travels in one year, approximately 5.88 trillion miles.\", \"Astronomy\"),\n",
    "    (\"The surface of Mars is covered with iron oxide, giving it its distinctive red color.\", \"Astronomy\"),\n",
    "    (\"The first human-made object to reach space was the Soviet Union's Sputnik satellite in 1957.\", \"Astronomy\"),\n",
    "    (\"Venus is often called Earth's 'sister planet' because of their similar size and composition.\", \"Astronomy\"),\n",
    "    (\"The Great Red Spot on Jupiter is a giant storm that has been raging for at least 400 years.\", \"Astronomy\"),\n",
    "\n",
    "    # Movies Sentences\n",
    "    (\"The Godfather is often regarded as one of the greatest films in cinema history.\", \"Movies\"),\n",
    "    (\"Alfred Hitchcock was known as the 'Master of Suspense' for his thrilling movies.\", \"Movies\"),\n",
    "    (\"Directors like Steven Spielberg have revolutionized the film industry with blockbuster hits like 'Jaws'.\", \"Movies\"),\n",
    "    (\"'Parasite' made history by becoming the first non-English language film to win the Oscar for Best Picture.\", \"Movies\"),\n",
    "    (\"Bollywood, the Hindi-language film industry based in Mumbai, India, produces hundreds of films each year.\", \"Movies\"),\n",
    "    (\"Pixar Animation Studios is known for creating critically acclaimed animated films like 'Finding Nemo'.\", \"Movies\"),\n",
    "    (\"The Berlin International Film Festival is one of the world's leading film festivals.\", \"Movies\"),\n",
    "    (\"'Inglourious Basterds' is a war film written and directed by Quentin Tarantino.\", \"Movies\"),\n",
    "    (\"Special effects in movies have advanced significantly with the advent of computer-generated imagery (CGI).\", \"Movies\"),\n",
    "    (\"The Cannes Film Festival is held annually in Cannes, France, and is one of the most prestigious film festivals in the world.\", \"Movies\"),\n",
    "\n",
    "    # Random Sentences\n",
    "    (\"A well-balanced diet includes a variety of fruits, vegetables, proteins, and whole grains.\", \"Random\"),\n",
    "    (\"The internet has transformed the way we communicate, access information, and entertain ourselves.\", \"Random\"),\n",
    "    (\"Painting can be a relaxing and creative outlet for self-expression.\", \"Random\"),\n",
    "    (\"Mountain biking is an adrenaline-pumping activity that combines fitness and a love for the outdoors.\", \"Random\"),\n",
    "    (\"Board games, like chess and Monopoly, provide an excellent way for families and friends to bond.\", \"Random\"),\n",
    "    (\"Classical music has the power to evoke strong emotions and has been enjoyed for centuries.\", \"Random\"),\n",
    "    (\"Artificial intelligence is rapidly changing industries and daily life with advancements in automation and data analysis.\", \"Random\"),\n",
    "    (\"Water conservation is critical for ensuring sustainable resources for future generations.\", \"Random\"),\n",
    "    (\"Volunteering can be a rewarding experience that helps support communities and causes.\", \"Random\"),\n",
    "    (\"Virtual reality technology is creating immersive experiences in gaming, education, and training.\", \"Random\")\n",
    "]\n"
   ],
   "metadata": {
    "collapsed": false
   }
  },
  {
   "cell_type": "code",
   "execution_count": 6,
   "outputs": [],
   "source": [
    "BERT_MODEL_NAME = 'bert-base-uncased'\n",
    "NUM_CLASSES = 3  # Specify the number of classes\n",
    "MAX_LEN = 32\n",
    "BATCH_SIZE = 10\n",
    "EPOCHS = 10\n",
    "TOP_K = 2  # Number of top classes to recommend\n"
   ],
   "metadata": {
    "collapsed": false
   }
  },
  {
   "cell_type": "code",
   "execution_count": 7,
   "outputs": [
    {
     "data": {
      "text/plain": "tokenizer_config.json:   0%|          | 0.00/48.0 [00:00<?, ?B/s]",
      "application/vnd.jupyter.widget-view+json": {
       "version_major": 2,
       "version_minor": 0,
       "model_id": "639546b718124cbfbc6e856d66b26ffe"
      }
     },
     "metadata": {},
     "output_type": "display_data"
    },
    {
     "data": {
      "text/plain": "vocab.txt:   0%|          | 0.00/232k [00:00<?, ?B/s]",
      "application/vnd.jupyter.widget-view+json": {
       "version_major": 2,
       "version_minor": 0,
       "model_id": "22111133cca84d20bee6ac367027fbdb"
      }
     },
     "metadata": {},
     "output_type": "display_data"
    },
    {
     "data": {
      "text/plain": "tokenizer_config.json:   0%|          | 0.00/48.0 [00:00<?, ?B/s]",
      "application/vnd.jupyter.widget-view+json": {
       "version_major": 2,
       "version_minor": 0,
       "model_id": "f48cdec5548f489f90aa53193decd138"
      }
     },
     "metadata": {},
     "output_type": "display_data"
    },
    {
     "data": {
      "text/plain": "tokenizer.json:   0%|          | 0.00/466k [00:00<?, ?B/s]",
      "application/vnd.jupyter.widget-view+json": {
       "version_major": 2,
       "version_minor": 0,
       "model_id": "decb66e7164d4506b5956ac350c18caf"
      }
     },
     "metadata": {},
     "output_type": "display_data"
    }
   ],
   "source": [
    "tokenizer = BertTokenizer.from_pretrained(BERT_MODEL_NAME, force_download=True)"
   ],
   "metadata": {
    "collapsed": false
   }
  },
  {
   "cell_type": "code",
   "execution_count": 8,
   "outputs": [],
   "source": [
    "label_index = {\"Astronomy\": 1, \"Movies\": 2, }\n",
    "\n",
    "def make_dataset(data):\n",
    "    return TextDataset(\n",
    "        texts = [d[0] for d in data],\n",
    "        labels = [label_index[d[1]] if d[1] in label_index else 0 for d in data],\n",
    "        # labels = [1 if d[1] == \"Astronomy\" else 0 for d in data],\n",
    "        tokenizer = tokenizer,\n",
    "    )\n",
    "\n",
    "train_dataset = make_dataset(train_data)\n",
    "test_dataset = make_dataset(test_data)\n",
    "val_dataset = make_dataset(val_data)\n"
   ],
   "metadata": {
    "collapsed": false
   }
  },
  {
   "cell_type": "code",
   "execution_count": 9,
   "outputs": [
    {
     "data": {
      "text/plain": "{'text': 'Christopher Nolan is known for his mind-bending and visually stunning movies, such as Inception.',\n 'input_ids': tensor([  101,  5696, 13401,  2003,  2124,  2005,  2010,  2568,  1011, 14457,\n          1998, 17453, 14726,  5691,  1010,  2107,  2004, 12149,  1012,   102,\n             0,     0,     0,     0,     0,     0,     0,     0,     0,     0,\n             0,     0,     0,     0,     0,     0,     0,     0,     0,     0,\n             0,     0,     0,     0,     0,     0,     0,     0,     0,     0,\n             0,     0,     0,     0,     0,     0,     0,     0,     0,     0,\n             0,     0,     0,     0,     0,     0,     0,     0,     0,     0,\n             0,     0,     0,     0,     0,     0,     0,     0,     0,     0,\n             0,     0,     0,     0,     0,     0,     0,     0,     0,     0,\n             0,     0,     0,     0,     0,     0,     0,     0,     0,     0,\n             0,     0,     0,     0,     0,     0,     0,     0,     0,     0,\n             0,     0,     0,     0,     0,     0,     0,     0,     0,     0,\n             0,     0,     0,     0,     0,     0,     0,     0,     0,     0,\n             0,     0,     0,     0,     0,     0,     0,     0,     0,     0,\n             0,     0,     0,     0,     0,     0,     0,     0,     0,     0,\n             0,     0,     0,     0,     0,     0,     0,     0,     0,     0,\n             0,     0,     0,     0,     0,     0,     0,     0,     0,     0,\n             0,     0,     0,     0,     0,     0,     0,     0,     0,     0,\n             0,     0,     0,     0,     0,     0,     0,     0,     0,     0,\n             0,     0,     0,     0,     0,     0,     0,     0,     0,     0,\n             0,     0,     0,     0,     0,     0,     0,     0,     0,     0,\n             0,     0,     0,     0,     0,     0,     0,     0,     0,     0,\n             0,     0,     0,     0,     0,     0,     0,     0,     0,     0,\n             0,     0,     0,     0,     0,     0,     0,     0,     0,     0,\n             0,     0,     0,     0,     0,     0,     0,     0,     0,     0,\n             0,     0,     0,     0,     0,     0]),\n 'attention_mask': tensor([1, 1, 1, 1, 1, 1, 1, 1, 1, 1, 1, 1, 1, 1, 1, 1, 1, 1, 1, 1, 0, 0, 0, 0,\n         0, 0, 0, 0, 0, 0, 0, 0, 0, 0, 0, 0, 0, 0, 0, 0, 0, 0, 0, 0, 0, 0, 0, 0,\n         0, 0, 0, 0, 0, 0, 0, 0, 0, 0, 0, 0, 0, 0, 0, 0, 0, 0, 0, 0, 0, 0, 0, 0,\n         0, 0, 0, 0, 0, 0, 0, 0, 0, 0, 0, 0, 0, 0, 0, 0, 0, 0, 0, 0, 0, 0, 0, 0,\n         0, 0, 0, 0, 0, 0, 0, 0, 0, 0, 0, 0, 0, 0, 0, 0, 0, 0, 0, 0, 0, 0, 0, 0,\n         0, 0, 0, 0, 0, 0, 0, 0, 0, 0, 0, 0, 0, 0, 0, 0, 0, 0, 0, 0, 0, 0, 0, 0,\n         0, 0, 0, 0, 0, 0, 0, 0, 0, 0, 0, 0, 0, 0, 0, 0, 0, 0, 0, 0, 0, 0, 0, 0,\n         0, 0, 0, 0, 0, 0, 0, 0, 0, 0, 0, 0, 0, 0, 0, 0, 0, 0, 0, 0, 0, 0, 0, 0,\n         0, 0, 0, 0, 0, 0, 0, 0, 0, 0, 0, 0, 0, 0, 0, 0, 0, 0, 0, 0, 0, 0, 0, 0,\n         0, 0, 0, 0, 0, 0, 0, 0, 0, 0, 0, 0, 0, 0, 0, 0, 0, 0, 0, 0, 0, 0, 0, 0,\n         0, 0, 0, 0, 0, 0, 0, 0, 0, 0, 0, 0, 0, 0, 0, 0]),\n 'label': tensor(2)}"
     },
     "execution_count": 9,
     "metadata": {},
     "output_type": "execute_result"
    }
   ],
   "source": [
    "train_dataset[11]"
   ],
   "metadata": {
    "collapsed": false
   }
  },
  {
   "cell_type": "code",
   "execution_count": 10,
   "outputs": [],
   "source": [
    "train_loader = DataLoader(train_dataset, batch_size=BATCH_SIZE, shuffle=True)\n",
    "test_loader = DataLoader(test_dataset, batch_size=BATCH_SIZE)\n",
    "val_loader = DataLoader(val_dataset, batch_size=BATCH_SIZE, shuffle=True)\n"
   ],
   "metadata": {
    "collapsed": false
   }
  },
  {
   "cell_type": "code",
   "execution_count": 11,
   "outputs": [
    {
     "name": "stderr",
     "output_type": "stream",
     "text": [
      "Some weights of BertForSequenceClassification were not initialized from the model checkpoint at bert-base-uncased and are newly initialized: ['classifier.bias', 'classifier.weight']\n",
      "You should probably TRAIN this model on a down-stream task to be able to use it for predictions and inference.\n"
     ]
    }
   ],
   "source": [
    "from transformers import BertForSequenceClassification\n",
    "\n",
    "classifier = BertForSequenceClassification.from_pretrained(\n",
    "    BERT_MODEL_NAME,\n",
    "    num_labels = NUM_CLASSES,\n",
    "    output_attentions = False,\n",
    "    output_hidden_states = False\n",
    ")"
   ],
   "metadata": {
    "collapsed": false
   }
  },
  {
   "cell_type": "code",
   "execution_count": 12,
   "outputs": [],
   "source": [
    "from transformers import get_linear_schedule_with_warmup\n",
    "from torch.optim import AdamW\n",
    "\n",
    "optimizer = AdamW(classifier.parameters(),\n",
    "                  lr=1e-5,\n",
    "                  eps=1e-8)\n",
    "\n",
    "epochs = 5\n",
    "\n",
    "scheduler = get_linear_schedule_with_warmup(optimizer,\n",
    "                                            num_warmup_steps=0,\n",
    "                                            num_training_steps=len(train_loader)*epochs)\n"
   ],
   "metadata": {
    "collapsed": false
   }
  },
  {
   "cell_type": "code",
   "execution_count": 13,
   "outputs": [],
   "source": [
    "from sklearn.metrics import f1_score\n",
    "\n",
    "def f1_score_func(preds, labels):\n",
    "    preds_flat = np.argmax(preds, axis=1).flatten()\n",
    "    labels_flat = labels.flatten()\n",
    "    return f1_score(labels_flat, preds_flat, average='weighted')\n",
    "\n",
    "def accuracy_per_class(preds, labels):\n",
    "    label_dict_inverse = {v: k for k, v in label_index.items()}\n",
    "    label_dict_inverse[\"Random\"] = 0\n",
    "\n",
    "    preds_flat = np.argmax(preds, axis=1).flatten()\n",
    "    labels_flat = labels.flatten()\n",
    "\n",
    "    for label in np.unique(labels_flat):\n",
    "        y_preds = preds_flat[labels_flat==label]\n",
    "        y_true = labels_flat[labels_flat==label]\n",
    "        print(f'Class: {label_dict_inverse[label]}')\n",
    "        print(f'Accuracy: {len(y_preds[y_preds==label])}/{len(y_true)}\\n')"
   ],
   "metadata": {
    "collapsed": false
   }
  },
  {
   "cell_type": "code",
   "execution_count": 14,
   "outputs": [
    {
     "name": "stderr",
     "output_type": "stream",
     "text": [
      "  0%|          | 0/5 [00:00<?, ?it/s]\n",
      "Epoch 1:   0%|          | 0/9 [00:00<?, ?it/s]\u001B[A\n",
      "Epoch 1:   0%|          | 0/9 [00:03<?, ?it/s, training_loss=0.287]\u001B[A\n",
      "Epoch 1:  11%|█         | 1/9 [00:03<00:27,  3.50s/it, training_loss=0.287]\u001B[A\n",
      "Epoch 1:  11%|█         | 1/9 [00:06<00:27,  3.50s/it, training_loss=0.247]\u001B[A\n",
      "Epoch 1:  22%|██▏       | 2/9 [00:06<00:21,  3.08s/it, training_loss=0.247]\u001B[A\n",
      "Epoch 1:  22%|██▏       | 2/9 [00:09<00:21,  3.08s/it, training_loss=0.270]\u001B[A\n",
      "Epoch 1:  33%|███▎      | 3/9 [00:09<00:20,  3.37s/it, training_loss=0.270]\u001B[A\n",
      "Epoch 1:  33%|███▎      | 3/9 [00:12<00:20,  3.37s/it, training_loss=0.309]\u001B[A\n",
      "Epoch 1:  44%|████▍     | 4/9 [00:12<00:15,  3.11s/it, training_loss=0.309]\u001B[A\n",
      "Epoch 1:  44%|████▍     | 4/9 [00:15<00:15,  3.11s/it, training_loss=0.277]\u001B[A\n",
      "Epoch 1:  56%|█████▌    | 5/9 [00:15<00:11,  2.99s/it, training_loss=0.277]\u001B[A\n",
      "Epoch 1:  56%|█████▌    | 5/9 [00:18<00:11,  2.99s/it, training_loss=0.327]\u001B[A\n",
      "Epoch 1:  67%|██████▋   | 6/9 [00:18<00:08,  2.93s/it, training_loss=0.327]\u001B[A\n",
      "Epoch 1:  67%|██████▋   | 6/9 [00:21<00:08,  2.93s/it, training_loss=0.230]\u001B[A\n",
      "Epoch 1:  78%|███████▊  | 7/9 [00:21<00:06,  3.15s/it, training_loss=0.230]\u001B[A\n",
      "Epoch 1:  78%|███████▊  | 7/9 [00:24<00:06,  3.15s/it, training_loss=0.325]\u001B[A\n",
      "Epoch 1:  89%|████████▉ | 8/9 [00:24<00:03,  3.04s/it, training_loss=0.325]\u001B[A\n",
      "Epoch 1:  89%|████████▉ | 8/9 [00:27<00:03,  3.04s/it, training_loss=0.329]\u001B[A\n",
      "Epoch 1: 100%|██████████| 9/9 [00:27<00:00,  2.91s/it, training_loss=0.329]\u001B[A\n",
      "  0%|          | 0/5 [00:27<?, ?it/s]                                      \u001B[A"
     ]
    },
    {
     "name": "stdout",
     "output_type": "stream",
     "text": [
      "\n",
      "Epoch 1\n",
      "Training loss: 1.1559863355424669\n"
     ]
    },
    {
     "name": "stderr",
     "output_type": "stream",
     "text": [
      " 20%|██        | 1/5 [00:30<02:02, 30.54s/it]"
     ]
    },
    {
     "name": "stdout",
     "output_type": "stream",
     "text": [
      "Validation loss: 1.1084368924299877\n",
      "F1 Score (Weighted): 0.16666666666666666\n"
     ]
    },
    {
     "name": "stderr",
     "output_type": "stream",
     "text": [
      "\n",
      "Epoch 2:   0%|          | 0/9 [00:00<?, ?it/s]\u001B[A\n",
      "Epoch 2:   0%|          | 0/9 [00:03<?, ?it/s, training_loss=0.252]\u001B[A\n",
      "Epoch 2:  11%|█         | 1/9 [00:03<00:28,  3.58s/it, training_loss=0.252]\u001B[A\n",
      "Epoch 2:  11%|█         | 1/9 [00:06<00:28,  3.58s/it, training_loss=0.267]\u001B[A\n",
      "Epoch 2:  22%|██▏       | 2/9 [00:06<00:22,  3.20s/it, training_loss=0.267]\u001B[A\n",
      "Epoch 2:  22%|██▏       | 2/9 [00:09<00:22,  3.20s/it, training_loss=0.304]\u001B[A\n",
      "Epoch 2:  33%|███▎      | 3/9 [00:09<00:18,  3.05s/it, training_loss=0.304]\u001B[A\n",
      "Epoch 2:  33%|███▎      | 3/9 [00:12<00:18,  3.05s/it, training_loss=0.261]\u001B[A\n",
      "Epoch 2:  44%|████▍     | 4/9 [00:12<00:15,  3.09s/it, training_loss=0.261]\u001B[A\n",
      "Epoch 2:  44%|████▍     | 4/9 [00:15<00:15,  3.09s/it, training_loss=0.278]\u001B[A\n",
      "Epoch 2:  56%|█████▌    | 5/9 [00:15<00:12,  3.07s/it, training_loss=0.278]\u001B[A\n",
      "Epoch 2:  56%|█████▌    | 5/9 [00:18<00:12,  3.07s/it, training_loss=0.229]\u001B[A\n",
      "Epoch 2:  67%|██████▋   | 6/9 [00:18<00:08,  2.96s/it, training_loss=0.229]\u001B[A\n",
      "Epoch 2:  67%|██████▋   | 6/9 [00:21<00:08,  2.96s/it, training_loss=0.247]\u001B[A\n",
      "Epoch 2:  78%|███████▊  | 7/9 [00:21<00:05,  2.90s/it, training_loss=0.247]\u001B[A\n",
      "Epoch 2:  78%|███████▊  | 7/9 [00:24<00:05,  2.90s/it, training_loss=0.238]\u001B[A\n",
      "Epoch 2:  89%|████████▉ | 8/9 [00:24<00:02,  2.97s/it, training_loss=0.238]\u001B[A\n",
      "Epoch 2:  89%|████████▉ | 8/9 [00:27<00:02,  2.97s/it, training_loss=0.208]\u001B[A\n",
      "Epoch 2: 100%|██████████| 9/9 [00:27<00:00,  3.08s/it, training_loss=0.208]\u001B[A\n",
      " 20%|██        | 1/5 [00:58<02:02, 30.54s/it]                              \u001B[A"
     ]
    },
    {
     "name": "stdout",
     "output_type": "stream",
     "text": [
      "\n",
      "Epoch 2\n",
      "Training loss: 1.0159194005860224\n"
     ]
    },
    {
     "name": "stderr",
     "output_type": "stream",
     "text": [
      " 40%|████      | 2/5 [01:01<01:32, 30.73s/it]"
     ]
    },
    {
     "name": "stdout",
     "output_type": "stream",
     "text": [
      "Validation loss: 0.9905066092809042\n",
      "F1 Score (Weighted): 0.3682405874186696\n"
     ]
    },
    {
     "name": "stderr",
     "output_type": "stream",
     "text": [
      "\n",
      "Epoch 3:   0%|          | 0/9 [00:00<?, ?it/s]\u001B[A\n",
      "Epoch 3:   0%|          | 0/9 [00:03<?, ?it/s, training_loss=0.219]\u001B[A\n",
      "Epoch 3:  11%|█         | 1/9 [00:03<00:28,  3.53s/it, training_loss=0.219]\u001B[A\n",
      "Epoch 3:  11%|█         | 1/9 [00:06<00:28,  3.53s/it, training_loss=0.251]\u001B[A\n",
      "Epoch 3:  22%|██▏       | 2/9 [00:06<00:21,  3.14s/it, training_loss=0.251]\u001B[A\n",
      "Epoch 3:  22%|██▏       | 2/9 [00:09<00:21,  3.14s/it, training_loss=0.212]\u001B[A\n",
      "Epoch 3:  33%|███▎      | 3/9 [00:09<00:17,  2.98s/it, training_loss=0.212]\u001B[A\n",
      "Epoch 3:  33%|███▎      | 3/9 [00:11<00:17,  2.98s/it, training_loss=0.218]\u001B[A\n",
      "Epoch 3:  44%|████▍     | 4/9 [00:11<00:14,  2.87s/it, training_loss=0.218]\u001B[A\n",
      "Epoch 3:  44%|████▍     | 4/9 [00:14<00:14,  2.87s/it, training_loss=0.209]\u001B[A\n",
      "Epoch 3:  56%|█████▌    | 5/9 [00:14<00:11,  2.81s/it, training_loss=0.209]\u001B[A\n",
      "Epoch 3:  56%|█████▌    | 5/9 [00:17<00:11,  2.81s/it, training_loss=0.231]\u001B[A\n",
      "Epoch 3:  67%|██████▋   | 6/9 [00:17<00:08,  2.81s/it, training_loss=0.231]\u001B[A\n",
      "Epoch 3:  67%|██████▋   | 6/9 [00:20<00:08,  2.81s/it, training_loss=0.192]\u001B[A\n",
      "Epoch 3:  78%|███████▊  | 7/9 [00:20<00:05,  2.79s/it, training_loss=0.192]\u001B[A\n",
      "Epoch 3:  78%|███████▊  | 7/9 [00:23<00:05,  2.79s/it, training_loss=0.258]\u001B[A\n",
      "Epoch 3:  89%|████████▉ | 8/9 [00:23<00:02,  2.81s/it, training_loss=0.258]\u001B[A\n",
      "Epoch 3:  89%|████████▉ | 8/9 [00:25<00:02,  2.81s/it, training_loss=0.197]\u001B[A\n",
      "Epoch 3: 100%|██████████| 9/9 [00:25<00:00,  2.81s/it, training_loss=0.197]\u001B[A\n",
      " 40%|████      | 2/5 [01:27<01:32, 30.73s/it]                              \u001B[A"
     ]
    },
    {
     "name": "stdout",
     "output_type": "stream",
     "text": [
      "\n",
      "Epoch 3\n",
      "Training loss: 0.8827226758003235\n"
     ]
    },
    {
     "name": "stderr",
     "output_type": "stream",
     "text": [
      " 60%|██████    | 3/5 [01:30<01:00, 30.00s/it]"
     ]
    },
    {
     "name": "stdout",
     "output_type": "stream",
     "text": [
      "Validation loss: 0.899446020523707\n",
      "F1 Score (Weighted): 0.571571906354515\n"
     ]
    },
    {
     "name": "stderr",
     "output_type": "stream",
     "text": [
      "\n",
      "Epoch 4:   0%|          | 0/9 [00:00<?, ?it/s]\u001B[A\n",
      "Epoch 4:   0%|          | 0/9 [00:03<?, ?it/s, training_loss=0.219]\u001B[A\n",
      "Epoch 4:  11%|█         | 1/9 [00:03<00:29,  3.67s/it, training_loss=0.219]\u001B[A\n",
      "Epoch 4:  11%|█         | 1/9 [00:06<00:29,  3.67s/it, training_loss=0.224]\u001B[A\n",
      "Epoch 4:  22%|██▏       | 2/9 [00:06<00:22,  3.20s/it, training_loss=0.224]\u001B[A\n",
      "Epoch 4:  22%|██▏       | 2/9 [00:09<00:22,  3.20s/it, training_loss=0.205]\u001B[A\n",
      "Epoch 4:  33%|███▎      | 3/9 [00:09<00:18,  3.03s/it, training_loss=0.205]\u001B[A\n",
      "Epoch 4:  33%|███▎      | 3/9 [00:12<00:18,  3.03s/it, training_loss=0.177]\u001B[A\n",
      "Epoch 4:  44%|████▍     | 4/9 [00:12<00:14,  2.93s/it, training_loss=0.177]\u001B[A\n",
      "Epoch 4:  44%|████▍     | 4/9 [00:14<00:14,  2.93s/it, training_loss=0.221]\u001B[A\n",
      "Epoch 4:  56%|█████▌    | 5/9 [00:14<00:11,  2.89s/it, training_loss=0.221]\u001B[A\n",
      "Epoch 4:  56%|█████▌    | 5/9 [00:17<00:11,  2.89s/it, training_loss=0.183]\u001B[A\n",
      "Epoch 4:  67%|██████▋   | 6/9 [00:17<00:08,  2.87s/it, training_loss=0.183]\u001B[A\n",
      "Epoch 4:  67%|██████▋   | 6/9 [00:20<00:08,  2.87s/it, training_loss=0.211]\u001B[A\n",
      "Epoch 4:  78%|███████▊  | 7/9 [00:20<00:05,  2.90s/it, training_loss=0.211]\u001B[A\n",
      "Epoch 4:  78%|███████▊  | 7/9 [00:23<00:05,  2.90s/it, training_loss=0.151]\u001B[A\n",
      "Epoch 4:  89%|████████▉ | 8/9 [00:23<00:02,  2.96s/it, training_loss=0.151]\u001B[A\n",
      "Epoch 4:  89%|████████▉ | 8/9 [00:26<00:02,  2.96s/it, training_loss=0.191]\u001B[A\n",
      "Epoch 4: 100%|██████████| 9/9 [00:26<00:00,  2.93s/it, training_loss=0.191]\u001B[A\n",
      " 60%|██████    | 3/5 [01:57<01:00, 30.00s/it]                              \u001B[A"
     ]
    },
    {
     "name": "stdout",
     "output_type": "stream",
     "text": [
      "\n",
      "Epoch 4\n",
      "Training loss: 0.791619684961107\n"
     ]
    },
    {
     "name": "stderr",
     "output_type": "stream",
     "text": [
      " 80%|████████  | 4/5 [02:00<00:30, 30.01s/it]"
     ]
    },
    {
     "name": "stdout",
     "output_type": "stream",
     "text": [
      "Validation loss: 0.8358581165472666\n",
      "F1 Score (Weighted): 0.7406675450153711\n"
     ]
    },
    {
     "name": "stderr",
     "output_type": "stream",
     "text": [
      "\n",
      "Epoch 5:   0%|          | 0/9 [00:00<?, ?it/s]\u001B[A\n",
      "Epoch 5:   0%|          | 0/9 [00:03<?, ?it/s, training_loss=0.200]\u001B[A\n",
      "Epoch 5:  11%|█         | 1/9 [00:03<00:25,  3.20s/it, training_loss=0.200]\u001B[A\n",
      "Epoch 5:  11%|█         | 1/9 [00:06<00:25,  3.20s/it, training_loss=0.197]\u001B[A\n",
      "Epoch 5:  22%|██▏       | 2/9 [00:06<00:22,  3.15s/it, training_loss=0.197]\u001B[A\n",
      "Epoch 5:  22%|██▏       | 2/9 [00:09<00:22,  3.15s/it, training_loss=0.223]\u001B[A\n",
      "Epoch 5:  33%|███▎      | 3/9 [00:09<00:18,  3.07s/it, training_loss=0.223]\u001B[A\n",
      "Epoch 5:  33%|███▎      | 3/9 [00:12<00:18,  3.07s/it, training_loss=0.185]\u001B[A\n",
      "Epoch 5:  44%|████▍     | 4/9 [00:12<00:14,  3.00s/it, training_loss=0.185]\u001B[A\n",
      "Epoch 5:  44%|████▍     | 4/9 [00:14<00:14,  3.00s/it, training_loss=0.205]\u001B[A\n",
      "Epoch 5:  56%|█████▌    | 5/9 [00:14<00:11,  2.91s/it, training_loss=0.205]\u001B[A\n",
      "Epoch 5:  56%|█████▌    | 5/9 [00:17<00:11,  2.91s/it, training_loss=0.174]\u001B[A\n",
      "Epoch 5:  67%|██████▋   | 6/9 [00:17<00:08,  2.83s/it, training_loss=0.174]\u001B[A\n",
      "Epoch 5:  67%|██████▋   | 6/9 [00:20<00:08,  2.83s/it, training_loss=0.180]\u001B[A\n",
      "Epoch 5:  78%|███████▊  | 7/9 [00:20<00:05,  2.78s/it, training_loss=0.180]\u001B[A\n",
      "Epoch 5:  78%|███████▊  | 7/9 [00:23<00:05,  2.78s/it, training_loss=0.181]\u001B[A\n",
      "Epoch 5:  89%|████████▉ | 8/9 [00:23<00:02,  2.84s/it, training_loss=0.181]\u001B[A\n",
      "Epoch 5:  89%|████████▉ | 8/9 [00:26<00:02,  2.84s/it, training_loss=0.175]\u001B[A\n",
      "Epoch 5: 100%|██████████| 9/9 [00:26<00:00,  2.85s/it, training_loss=0.175]\u001B[A\n",
      " 80%|████████  | 4/5 [02:27<00:30, 30.01s/it]                              \u001B[A"
     ]
    },
    {
     "name": "stdout",
     "output_type": "stream",
     "text": [
      "\n",
      "Epoch 5\n",
      "Training loss: 0.7651507125960456\n"
     ]
    },
    {
     "name": "stderr",
     "output_type": "stream",
     "text": [
      "100%|██████████| 5/5 [02:29<00:00, 29.99s/it]"
     ]
    },
    {
     "name": "stdout",
     "output_type": "stream",
     "text": [
      "Validation loss: 0.8158403635025024\n",
      "F1 Score (Weighted): 0.7406675450153711\n"
     ]
    },
    {
     "name": "stderr",
     "output_type": "stream",
     "text": [
      "\n"
     ]
    }
   ],
   "source": [
    "from tqdm import tqdm\n",
    "import numpy as np\n",
    "import random\n",
    "\n",
    "seed_val = 17\n",
    "random.seed(seed_val)\n",
    "np.random.seed(seed_val)\n",
    "torch.manual_seed(seed_val)\n",
    "torch.cuda.manual_seed_all(seed_val)\n",
    "\n",
    "device = \"cpu\"\n",
    "\n",
    "def evaluate(dataloader_val):\n",
    "\n",
    "    classifier.eval()\n",
    "\n",
    "    loss_val_total = 0\n",
    "    predictions, true_vals = [], []\n",
    "\n",
    "    for batch in dataloader_val:\n",
    "\n",
    "        inputs = {'input_ids':      batch[\"input_ids\"],\n",
    "                  'attention_mask': batch[\"attention_mask\"],\n",
    "                  'labels':         batch[\"label\"],\n",
    "                  }\n",
    "\n",
    "        with torch.no_grad():\n",
    "            outputs = classifier(**inputs)\n",
    "\n",
    "        loss = outputs[0]\n",
    "        logits = outputs[1]\n",
    "        loss_val_total += loss.item()\n",
    "\n",
    "        logits = logits.detach().cpu().numpy()\n",
    "        label_ids = inputs['labels'].cpu().numpy()\n",
    "        predictions.append(logits)\n",
    "        true_vals.append(label_ids)\n",
    "\n",
    "    loss_val_avg = loss_val_total/len(dataloader_val)\n",
    "\n",
    "    predictions = np.concatenate(predictions, axis=0)\n",
    "    true_vals = np.concatenate(true_vals, axis=0)\n",
    "\n",
    "    return loss_val_avg, predictions, true_vals\n",
    "\n",
    "for epoch in tqdm(range(1, epochs+1)):\n",
    "\n",
    "    classifier.train()\n",
    "\n",
    "    loss_train_total = 0\n",
    "\n",
    "    progress_bar = tqdm(train_loader, desc='Epoch {:1d}'.format(epoch), leave=False, disable=False)\n",
    "    for batch in progress_bar:\n",
    "\n",
    "        classifier.zero_grad()\n",
    "\n",
    "        inputs = {'input_ids':      batch[\"input_ids\"],\n",
    "                  'attention_mask': batch[\"attention_mask\"],\n",
    "                  'labels':         batch[\"label\"],\n",
    "                  }\n",
    "\n",
    "        outputs = classifier(**inputs)\n",
    "\n",
    "        loss = outputs[0]\n",
    "        loss_train_total += loss.item()\n",
    "        loss.backward()\n",
    "\n",
    "        torch.nn.utils.clip_grad_norm_(classifier.parameters(), 1.0)\n",
    "\n",
    "        optimizer.step()\n",
    "        scheduler.step()\n",
    "\n",
    "        progress_bar.set_postfix({'training_loss': '{:.3f}'.format(loss.item()/len(batch))})\n",
    "\n",
    "\n",
    "    torch.save(classifier.state_dict(), f'../data/finetuned_BERT_epoch_{epoch}.model')\n",
    "\n",
    "    tqdm.write(f'\\nEpoch {epoch}')\n",
    "\n",
    "    loss_train_avg = loss_train_total/len(train_loader)\n",
    "    tqdm.write(f'Training loss: {loss_train_avg}')\n",
    "\n",
    "    val_loss, predictions, true_vals = evaluate(val_loader)\n",
    "    val_f1 = f1_score_func(predictions, true_vals)\n",
    "    tqdm.write(f'Validation loss: {val_loss}')\n",
    "    tqdm.write(f'F1 Score (Weighted): {val_f1}')"
   ],
   "metadata": {
    "collapsed": false
   }
  },
  {
   "cell_type": "code",
   "execution_count": 17,
   "outputs": [
    {
     "name": "stdout",
     "output_type": "stream",
     "text": [
      "p=1, a=1: The James Webb Space Telescope is expected to be the successor to the Hubble Space Telescope.\n",
      "p=1, a=1: Supernovae are powerful and luminous stellar explosions that occur at the end of a star's lifecycle.\n",
      "p=1, a=1: The observable universe is thought to be about 93 billion light-years in diameter.\n",
      "p=1, a=1: Quasars are extremely luminous active galactic nuclei powered by supermassive black holes.\n",
      "p=1, a=1: The Kuiper Belt is a region of the solar system beyond Neptune that contains many small icy bodies.\n",
      "p=1, a=1: The term 'light-year' refers to the distance that light travels in one year, approximately 5.88 trillion miles.\n",
      "p=1, a=1: The surface of Mars is covered with iron oxide, giving it its distinctive red color.\n",
      "p=1, a=1: The first human-made object to reach space was the Soviet Union's Sputnik satellite in 1957.\n",
      "p=1, a=1: Venus is often called Earth's 'sister planet' because of their similar size and composition.\n",
      "p=1, a=1: The Great Red Spot on Jupiter is a giant storm that has been raging for at least 400 years.\n",
      "p=2, a=2: The Godfather is often regarded as one of the greatest films in cinema history.\n",
      "p=2, a=2: Alfred Hitchcock was known as the 'Master of Suspense' for his thrilling movies.\n",
      "p=2, a=2: Directors like Steven Spielberg have revolutionized the film industry with blockbuster hits like 'Jaws'.\n",
      "p=2, a=2: 'Parasite' made history by becoming the first non-English language film to win the Oscar for Best Picture.\n",
      "p=1, a=2: Bollywood, the Hindi-language film industry based in Mumbai, India, produces hundreds of films each year.\n",
      "p=2, a=2: Pixar Animation Studios is known for creating critically acclaimed animated films like 'Finding Nemo'.\n",
      "p=2, a=2: The Berlin International Film Festival is one of the world's leading film festivals.\n",
      "p=2, a=2: 'Inglourious Basterds' is a war film written and directed by Quentin Tarantino.\n",
      "p=0, a=2: Special effects in movies have advanced significantly with the advent of computer-generated imagery (CGI).\n",
      "p=1, a=2: The Cannes Film Festival is held annually in Cannes, France, and is one of the most prestigious film festivals in the world.\n",
      "p=0, a=0: A well-balanced diet includes a variety of fruits, vegetables, proteins, and whole grains.\n",
      "p=0, a=0: The internet has transformed the way we communicate, access information, and entertain ourselves.\n",
      "p=0, a=0: Painting can be a relaxing and creative outlet for self-expression.\n",
      "p=0, a=0: Mountain biking is an adrenaline-pumping activity that combines fitness and a love for the outdoors.\n",
      "p=0, a=0: Board games, like chess and Monopoly, provide an excellent way for families and friends to bond.\n",
      "p=0, a=0: Classical music has the power to evoke strong emotions and has been enjoyed for centuries.\n",
      "p=0, a=0: Artificial intelligence is rapidly changing industries and daily life with advancements in automation and data analysis.\n",
      "p=0, a=0: Water conservation is critical for ensuring sustainable resources for future generations.\n",
      "p=0, a=0: Volunteering can be a rewarding experience that helps support communities and causes.\n",
      "p=0, a=0: Virtual reality technology is creating immersive experiences in gaming, education, and training.\n"
     ]
    }
   ],
   "source": [
    "classifier.eval()\n",
    "with torch.no_grad():\n",
    "    for batch in test_loader:\n",
    "        input_ids = batch['input_ids']\n",
    "        attention_mask = batch['attention_mask']\n",
    "        labels = batch['label']\n",
    "\n",
    "        outputs = classifier(input_ids=input_ids, attention_mask=attention_mask)\n",
    "        _, predicted = torch.max(outputs.logits.data, 1)\n",
    "        for t, l, p in zip(batch[\"text\"], labels.tolist(), predicted.tolist()):\n",
    "            print(f\"p={p}, a={l}: {t}\")\n"
   ],
   "metadata": {
    "collapsed": false
   }
  },
  {
   "cell_type": "code",
   "execution_count": null,
   "outputs": [],
   "source": [],
   "metadata": {
    "collapsed": false
   }
  },
  {
   "cell_type": "markdown",
   "source": [
    "# DIY FFN"
   ],
   "metadata": {
    "collapsed": false
   }
  },
  {
   "cell_type": "code",
   "execution_count": 10,
   "outputs": [],
   "source": [
    "class BertTextClassifier(nn.Module):\n",
    "    def __init__(self, bert_model_name, num_classes):\n",
    "        super(BertTextClassifier, self).__init__()\n",
    "        self.bert = BertModel.from_pretrained(bert_model_name)\n",
    "        self.fc = nn.Sequential(\n",
    "            nn.Linear(self.bert.config.hidden_size, 128),\n",
    "            nn.ReLU(),\n",
    "            nn.Linear(128, num_classes)  # Adjust number of classes here\n",
    "        )\n",
    "\n",
    "    def forward(self, input_ids, attention_mask):\n",
    "        outputs = self.bert(input_ids=input_ids, attention_mask=attention_mask)\n",
    "        pooled_output = outputs[1]  # Output from [CLS] token\n",
    "        normalized_output = F.normalize(pooled_output, p=2, dim=1)\n",
    "        output = self.fc(normalized_output)\n",
    "        return output\n"
   ],
   "metadata": {
    "collapsed": false
   }
  },
  {
   "cell_type": "code",
   "execution_count": 12,
   "outputs": [],
   "source": [
    "model = BertTextClassifier(BERT_MODEL_NAME, NUM_CLASSES)\n",
    "criterion = nn.CrossEntropyLoss()\n",
    "optimizer = optim.Adam(model.parameters(), lr=0.001)\n"
   ],
   "metadata": {
    "collapsed": false
   }
  },
  {
   "cell_type": "code",
   "execution_count": 13,
   "outputs": [
    {
     "name": "stdout",
     "output_type": "stream",
     "text": [
      "Epoch [1/10], Loss: 0.5235\n",
      "Epoch [2/10], Loss: 0.6156\n",
      "Epoch [3/10], Loss: 0.6937\n",
      "Epoch [4/10], Loss: 0.4521\n",
      "Epoch [5/10], Loss: 0.6787\n",
      "Epoch [6/10], Loss: 0.7530\n",
      "Epoch [7/10], Loss: 0.6885\n",
      "Epoch [8/10], Loss: 0.5017\n",
      "Epoch [9/10], Loss: 0.6793\n",
      "Epoch [10/10], Loss: 0.4995\n"
     ]
    }
   ],
   "source": [
    "for epoch in range(EPOCHS):\n",
    "    model.train()\n",
    "    for batch in train_loader:\n",
    "        input_ids = batch['input_ids']\n",
    "        attention_mask = batch['attention_mask']\n",
    "        labels = batch['label']\n",
    "        optimizer.zero_grad()\n",
    "        outputs = model(input_ids=input_ids, attention_mask=attention_mask)\n",
    "        loss = criterion(outputs, labels)\n",
    "        loss.backward()\n",
    "        optimizer.step()\n",
    "    print(f'Epoch [{epoch+1}/{EPOCHS}], Loss: {loss.item():.4f}')\n"
   ],
   "metadata": {
    "collapsed": false
   }
  },
  {
   "cell_type": "code",
   "execution_count": 14,
   "outputs": [],
   "source": [
    "class EarlyStopping:\n",
    "    def __init__(self, patience=3, min_delta=0):\n",
    "        self.patience = patience\n",
    "        self.min_delta = min_delta\n",
    "        self.counter = 0\n",
    "        self.best_loss = None\n",
    "        self.early_stop = False\n",
    "\n",
    "    def __call__(self, val_loss):\n",
    "        if self.best_loss is None:\n",
    "            self.best_loss = val_loss\n",
    "        elif val_loss > self.best_loss - self.min_delta:\n",
    "            self.counter += 1\n",
    "            if self.counter >= self.patience:\n",
    "                self.early_stop = True\n",
    "        else:\n",
    "            self.best_loss = val_loss\n",
    "            self.counter = 0\n",
    "\n",
    "# Initialize EarlyStopping\n",
    "early_stopping = EarlyStopping(patience=3, min_delta=0.0001)"
   ],
   "metadata": {
    "collapsed": false
   }
  },
  {
   "cell_type": "code",
   "execution_count": 15,
   "outputs": [],
   "source": [
    "# Training loop with early stopping\n",
    "# for epoch in range(EPOCHS):\n",
    "#     model.train()\n",
    "#     running_loss = 0.0\n",
    "#     for batch in train_loader:\n",
    "#         input_ids = batch['input_ids']\n",
    "#         attention_mask = batch['attention_mask']\n",
    "#         labels = batch['label']\n",
    "#         optimizer.zero_grad()\n",
    "#         outputs = model(input_ids=input_ids, attention_mask=attention_mask)\n",
    "#         loss = criterion(outputs, labels)\n",
    "#         loss.backward()\n",
    "#         optimizer.step()\n",
    "#         running_loss += loss.item()\n",
    "#\n",
    "#     # Validation\n",
    "#     model.eval()\n",
    "#     val_loss = 0.0\n",
    "#     with torch.no_grad():\n",
    "#         for batch in val_loader:\n",
    "#             input_ids = batch['input_ids']\n",
    "#             attention_mask = batch['attention_mask']\n",
    "#             labels = batch['label']\n",
    "#             outputs = model(input_ids=input_ids, attention_mask=attention_mask)\n",
    "#             loss = criterion(outputs, labels)\n",
    "#             val_loss += loss.item()\n",
    "#\n",
    "#     avg_train_loss = running_loss / len(train_loader)\n",
    "#     avg_val_loss = val_loss / len(val_loader)\n",
    "#     print(f'Epoch [{epoch+1}/{EPOCHS}], Train Loss: {avg_train_loss:.4f}, Val Loss: {avg_val_loss:.4f}')\n",
    "#\n",
    "#     # Check early stopping\n",
    "#     early_stopping(avg_val_loss)\n",
    "#     if early_stopping.early_stop:\n",
    "#         print(\"Early stopping\")\n",
    "#         break\n"
   ],
   "metadata": {
    "collapsed": false
   }
  },
  {
   "cell_type": "code",
   "execution_count": 16,
   "outputs": [
    {
     "name": "stdout",
     "output_type": "stream",
     "text": [
      "Texts: ['The James Webb Space Telescope is expected to be the successor to the Hubble Space Telescope.', \"Supernovae are powerful and luminous stellar explosions that occur at the end of a star's lifecycle.\", 'The observable universe is thought to be about 93 billion light-years in diameter.', 'Quasars are extremely luminous active galactic nuclei powered by supermassive black holes.', 'The Kuiper Belt is a region of the solar system beyond Neptune that contains many small icy bodies.', \"The term 'light-year' refers to the distance that light travels in one year, approximately 5.88 trillion miles.\", 'The surface of Mars is covered with iron oxide, giving it its distinctive red color.', \"The first human-made object to reach space was the Soviet Union's Sputnik satellite in 1957.\", \"Venus is often called Earth's 'sister planet' because of their similar size and composition.\", 'The Great Red Spot on Jupiter is a giant storm that has been raging for at least 400 years.']\n",
      "Labels: [1, 1, 1, 1, 1, 1, 1, 1, 1, 1]\n",
      "Predicted: [0, 0, 0, 0, 0, 0, 0, 0, 0, 0]\n",
      "Texts: ['The Godfather is often regarded as one of the greatest films in cinema history.', \"Alfred Hitchcock was known as the 'Master of Suspense' for his thrilling movies.\", \"Directors like Steven Spielberg have revolutionized the film industry with blockbuster hits like 'Jaws'.\", \"'Parasite' made history by becoming the first non-English language film to win the Oscar for Best Picture.\", 'Bollywood, the Hindi-language film industry based in Mumbai, India, produces hundreds of films each year.', \"Pixar Animation Studios is known for creating critically acclaimed animated films like 'Finding Nemo'.\", \"The Berlin International Film Festival is one of the world's leading film festivals.\", \"'Inglourious Basterds' is a war film written and directed by Quentin Tarantino.\", 'Special effects in movies have advanced significantly with the advent of computer-generated imagery (CGI).', 'The Cannes Film Festival is held annually in Cannes, France, and is one of the most prestigious film festivals in the world.']\n",
      "Labels: [0, 0, 0, 0, 0, 0, 0, 0, 0, 0]\n",
      "Predicted: [0, 0, 0, 0, 0, 0, 0, 0, 0, 0]\n",
      "Texts: ['A well-balanced diet includes a variety of fruits, vegetables, proteins, and whole grains.', 'The internet has transformed the way we communicate, access information, and entertain ourselves.', 'Painting can be a relaxing and creative outlet for self-expression.', 'Mountain biking is an adrenaline-pumping activity that combines fitness and a love for the outdoors.', 'Board games, like chess and Monopoly, provide an excellent way for families and friends to bond.', 'Classical music has the power to evoke strong emotions and has been enjoyed for centuries.', 'Artificial intelligence is rapidly changing industries and daily life with advancements in automation and data analysis.', 'Water conservation is critical for ensuring sustainable resources for future generations.', 'Volunteering can be a rewarding experience that helps support communities and causes.', 'Virtual reality technology is creating immersive experiences in gaming, education, and training.']\n",
      "Labels: [0, 0, 0, 0, 0, 0, 0, 0, 0, 0]\n",
      "Predicted: [0, 0, 0, 0, 0, 0, 0, 0, 0, 0]\n"
     ]
    }
   ],
   "source": [
    "model.eval()\n",
    "with torch.no_grad():\n",
    "    for batch in test_loader:\n",
    "        input_ids = batch['input_ids']\n",
    "        attention_mask = batch['attention_mask']\n",
    "        labels = batch['label']\n",
    "        outputs = model(input_ids, attention_mask)\n",
    "        _, predicted = torch.max(outputs.data, 1)\n",
    "        print(f'Texts: {batch[\"text\"]}')\n",
    "        print(f'Labels: {labels.tolist()}')\n",
    "        print(f'Predicted: {predicted.tolist()}')\n"
   ],
   "metadata": {
    "collapsed": false
   }
  },
  {
   "cell_type": "code",
   "execution_count": 17,
   "outputs": [],
   "source": [
    "# TOP_K = 1\n",
    "#\n",
    "# model.eval()\n",
    "# with torch.no_grad():\n",
    "#     for batch in test_loader:\n",
    "#         input_ids = batch['input_ids']\n",
    "#         attention_mask = batch['attention_mask']\n",
    "#         labels = batch['label']\n",
    "#         outputs = model(input_ids, attention_mask)\n",
    "#\n",
    "#         # Get the top K predictions\n",
    "#         top_k_values, top_k_indices = torch.topk(outputs, TOP_K, dim=1)\n",
    "#\n",
    "#         print(top_k_values)\n",
    "#\n",
    "#         for text, label, top_k_inds in zip(batch[\"text\"], labels, top_k_indices):\n",
    "#             print(f'Text: {text}')\n",
    "#             print(f'Actual Label: {label.item()}')\n",
    "#             print(f'Top {TOP_K} Predicted: {top_k_inds.tolist()}')"
   ],
   "metadata": {
    "collapsed": false
   }
  }
 ],
 "metadata": {
  "kernelspec": {
   "display_name": "Python 3",
   "language": "python",
   "name": "python3"
  },
  "language_info": {
   "codemirror_mode": {
    "name": "ipython",
    "version": 2
   },
   "file_extension": ".py",
   "mimetype": "text/x-python",
   "name": "python",
   "nbconvert_exporter": "python",
   "pygments_lexer": "ipython2",
   "version": "2.7.6"
  }
 },
 "nbformat": 4,
 "nbformat_minor": 0
}
